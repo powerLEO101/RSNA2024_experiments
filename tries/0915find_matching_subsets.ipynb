{
 "cells": [
  {
   "cell_type": "code",
   "id": "initial_id",
   "metadata": {
    "collapsed": true,
    "ExecuteTime": {
     "end_time": "2024-09-15T21:32:29.881667Z",
     "start_time": "2024-09-15T21:32:27.134966Z"
    }
   },
   "source": [
    "import os\n",
    "os.environ['NO_ALBUMENTATIONS_UPDATE'] = '1'\n",
    "import sys\n",
    "import cv2\n",
    "import timm\n",
    "import torch\n",
    "import wandb\n",
    "import pydicom\n",
    "import torch.nn as nn\n",
    "import numpy as np\n",
    "import pandas as pd\n",
    "import albumentations as A\n",
    "import torch.optim as optim\n",
    "import segmentation_models_pytorch as smp\n",
    "import torch.nn.functional as F\n",
    "\n",
    "import core.utils as utils\n",
    "import core.models as models\n",
    "import core.datasets as datasets\n",
    "import core.training as training\n",
    "import core.project_paths as project_paths\n",
    "import core.keypoints as keypoints\n",
    "import core.losses as losses\n",
    "from core.fold_for_all import fold_for_all\n",
    "\n",
    "from glob import glob\n",
    "from tqdm import tqdm\n",
    "from os import environ\n",
    "from einops import rearrange\n",
    "from collections import defaultdict\n",
    "from accelerate.utils import set_seed\n",
    "from accelerate import Accelerator\n",
    "from albumentations.pytorch import ToTensorV2\n",
    "from torch.utils.data import DataLoader, Dataset, WeightedRandomSampler\n",
    "from transformers import get_cosine_schedule_with_warmup\n",
    "from accelerate import DistributedDataParallelKwargs"
   ],
   "outputs": [
    {
     "name": "stderr",
     "output_type": "stream",
     "text": [
      "/home/leo101/.conda/envs/py310/lib/python3.10/site-packages/tqdm/auto.py:21: TqdmWarning: IProgress not found. Please update jupyter and ipywidgets. See https://ipywidgets.readthedocs.io/en/stable/user_install.html\n",
      "  from .autonotebook import tqdm as notebook_tqdm\n"
     ]
    }
   ],
   "execution_count": 2
  },
  {
   "metadata": {
    "ExecuteTime": {
     "end_time": "2024-09-15T21:43:20.662732Z",
     "start_time": "2024-09-15T21:43:20.631991Z"
    }
   },
   "cell_type": "code",
   "source": [
    "def get_df_series(filter='T'):\n",
    "    df_series = pd.read_csv(f'{project_paths.base_path}/train_series_descriptions.csv')\n",
    "    df_series = df_series[df_series['series_description'].str.contains(filter)].reset_index(drop=True)\n",
    "    def count_files(folder):\n",
    "        files = glob(f'{folder}/*.dcm')\n",
    "        return len(files)\n",
    "    df_series['filepath'] = df_series.apply(lambda x: f\"{project_paths.base_path}/train_images/{x['study_id']}/{x['series_id']}\", axis=1)\n",
    "    return df_series\n",
    "df = get_df_series()\n",
    "df"
   ],
   "id": "746c780b38faf4fc",
   "outputs": [
    {
     "data": {
      "text/plain": [
       "        study_id   series_id series_description  \\\n",
       "0        4003253   702807833   Sagittal T2/STIR   \n",
       "1        4003253  1054713880        Sagittal T1   \n",
       "2        4003253  2448190387           Axial T2   \n",
       "3        4646740  3201256954           Axial T2   \n",
       "4        4646740  3486248476        Sagittal T1   \n",
       "...          ...         ...                ...   \n",
       "6289  4287160193  1507070277   Sagittal T2/STIR   \n",
       "6290  4287160193  1820446240           Axial T2   \n",
       "6291  4290709089  3274612423   Sagittal T2/STIR   \n",
       "6292  4290709089  3390218084           Axial T2   \n",
       "6293  4290709089  4237840455        Sagittal T1   \n",
       "\n",
       "                                               filepath  \n",
       "0     /media/workspace/RSNA2024_input/rsna-2024-lumb...  \n",
       "1     /media/workspace/RSNA2024_input/rsna-2024-lumb...  \n",
       "2     /media/workspace/RSNA2024_input/rsna-2024-lumb...  \n",
       "3     /media/workspace/RSNA2024_input/rsna-2024-lumb...  \n",
       "4     /media/workspace/RSNA2024_input/rsna-2024-lumb...  \n",
       "...                                                 ...  \n",
       "6289  /media/workspace/RSNA2024_input/rsna-2024-lumb...  \n",
       "6290  /media/workspace/RSNA2024_input/rsna-2024-lumb...  \n",
       "6291  /media/workspace/RSNA2024_input/rsna-2024-lumb...  \n",
       "6292  /media/workspace/RSNA2024_input/rsna-2024-lumb...  \n",
       "6293  /media/workspace/RSNA2024_input/rsna-2024-lumb...  \n",
       "\n",
       "[6294 rows x 4 columns]"
      ],
      "text/html": [
       "<div>\n",
       "<style scoped>\n",
       "    .dataframe tbody tr th:only-of-type {\n",
       "        vertical-align: middle;\n",
       "    }\n",
       "\n",
       "    .dataframe tbody tr th {\n",
       "        vertical-align: top;\n",
       "    }\n",
       "\n",
       "    .dataframe thead th {\n",
       "        text-align: right;\n",
       "    }\n",
       "</style>\n",
       "<table border=\"1\" class=\"dataframe\">\n",
       "  <thead>\n",
       "    <tr style=\"text-align: right;\">\n",
       "      <th></th>\n",
       "      <th>study_id</th>\n",
       "      <th>series_id</th>\n",
       "      <th>series_description</th>\n",
       "      <th>filepath</th>\n",
       "    </tr>\n",
       "  </thead>\n",
       "  <tbody>\n",
       "    <tr>\n",
       "      <th>0</th>\n",
       "      <td>4003253</td>\n",
       "      <td>702807833</td>\n",
       "      <td>Sagittal T2/STIR</td>\n",
       "      <td>/media/workspace/RSNA2024_input/rsna-2024-lumb...</td>\n",
       "    </tr>\n",
       "    <tr>\n",
       "      <th>1</th>\n",
       "      <td>4003253</td>\n",
       "      <td>1054713880</td>\n",
       "      <td>Sagittal T1</td>\n",
       "      <td>/media/workspace/RSNA2024_input/rsna-2024-lumb...</td>\n",
       "    </tr>\n",
       "    <tr>\n",
       "      <th>2</th>\n",
       "      <td>4003253</td>\n",
       "      <td>2448190387</td>\n",
       "      <td>Axial T2</td>\n",
       "      <td>/media/workspace/RSNA2024_input/rsna-2024-lumb...</td>\n",
       "    </tr>\n",
       "    <tr>\n",
       "      <th>3</th>\n",
       "      <td>4646740</td>\n",
       "      <td>3201256954</td>\n",
       "      <td>Axial T2</td>\n",
       "      <td>/media/workspace/RSNA2024_input/rsna-2024-lumb...</td>\n",
       "    </tr>\n",
       "    <tr>\n",
       "      <th>4</th>\n",
       "      <td>4646740</td>\n",
       "      <td>3486248476</td>\n",
       "      <td>Sagittal T1</td>\n",
       "      <td>/media/workspace/RSNA2024_input/rsna-2024-lumb...</td>\n",
       "    </tr>\n",
       "    <tr>\n",
       "      <th>...</th>\n",
       "      <td>...</td>\n",
       "      <td>...</td>\n",
       "      <td>...</td>\n",
       "      <td>...</td>\n",
       "    </tr>\n",
       "    <tr>\n",
       "      <th>6289</th>\n",
       "      <td>4287160193</td>\n",
       "      <td>1507070277</td>\n",
       "      <td>Sagittal T2/STIR</td>\n",
       "      <td>/media/workspace/RSNA2024_input/rsna-2024-lumb...</td>\n",
       "    </tr>\n",
       "    <tr>\n",
       "      <th>6290</th>\n",
       "      <td>4287160193</td>\n",
       "      <td>1820446240</td>\n",
       "      <td>Axial T2</td>\n",
       "      <td>/media/workspace/RSNA2024_input/rsna-2024-lumb...</td>\n",
       "    </tr>\n",
       "    <tr>\n",
       "      <th>6291</th>\n",
       "      <td>4290709089</td>\n",
       "      <td>3274612423</td>\n",
       "      <td>Sagittal T2/STIR</td>\n",
       "      <td>/media/workspace/RSNA2024_input/rsna-2024-lumb...</td>\n",
       "    </tr>\n",
       "    <tr>\n",
       "      <th>6292</th>\n",
       "      <td>4290709089</td>\n",
       "      <td>3390218084</td>\n",
       "      <td>Axial T2</td>\n",
       "      <td>/media/workspace/RSNA2024_input/rsna-2024-lumb...</td>\n",
       "    </tr>\n",
       "    <tr>\n",
       "      <th>6293</th>\n",
       "      <td>4290709089</td>\n",
       "      <td>4237840455</td>\n",
       "      <td>Sagittal T1</td>\n",
       "      <td>/media/workspace/RSNA2024_input/rsna-2024-lumb...</td>\n",
       "    </tr>\n",
       "  </tbody>\n",
       "</table>\n",
       "<p>6294 rows × 4 columns</p>\n",
       "</div>"
      ]
     },
     "execution_count": 21,
     "metadata": {},
     "output_type": "execute_result"
    }
   ],
   "execution_count": 21
  },
  {
   "metadata": {
    "ExecuteTime": {
     "end_time": "2024-09-15T21:44:31.117750Z",
     "start_time": "2024-09-15T21:44:31.089780Z"
    }
   },
   "cell_type": "code",
   "source": [
    "def get_dicom_metadata(filename):\n",
    "    dcm = pydicom.dcmread(filename)\n",
    "    result = {}\n",
    "    for element in dcm:\n",
    "        if element.name == 'Pixel Data': continue\n",
    "        result[element.name] = element.value\n",
    "    return result\n",
    "[get_dicom_metadata(f'{df.iloc[1][\"filepath\"]}/{i}.dcm')['Content Time'] for i in range(1, 15)]"
   ],
   "id": "b5472c8d00f5601c",
   "outputs": [
    {
     "data": {
      "text/plain": [
       "['223713.595069',\n",
       " '223716.281743',\n",
       " '223715.195741',\n",
       " '223716.212079',\n",
       " '223715.558088',\n",
       " '223714.109437',\n",
       " '223715.267722',\n",
       " '223715.636375',\n",
       " '223715.416051',\n",
       " '223714.186226',\n",
       " '223714.268076',\n",
       " '223715.486975',\n",
       " '223715.337148',\n",
       " '223716.142397']"
      ]
     },
     "execution_count": 26,
     "metadata": {},
     "output_type": "execute_result"
    }
   ],
   "execution_count": 26
  },
  {
   "metadata": {
    "ExecuteTime": {
     "end_time": "2024-09-15T21:44:31.358974Z",
     "start_time": "2024-09-15T21:44:31.331810Z"
    }
   },
   "cell_type": "code",
   "source": "[get_dicom_metadata(f'{df.iloc[0][\"filepath\"]}/{i}.dcm')['Content Time'] for i in range(1, 15)]",
   "id": "aeca1aba63af80e5",
   "outputs": [
    {
     "data": {
      "text/plain": [
       "['223718.007977',\n",
       " '223717.688392',\n",
       " '223713.504434',\n",
       " '223716.904185',\n",
       " '223717.463262',\n",
       " '223713.244718',\n",
       " '223714.614509',\n",
       " '223714.695927',\n",
       " '223713.422388',\n",
       " '223717.848046',\n",
       " '223717.930734',\n",
       " '223713.330007',\n",
       " '223717.766757',\n",
       " '223715.714071']"
      ]
     },
     "execution_count": 27,
     "metadata": {},
     "output_type": "execute_result"
    }
   ],
   "execution_count": 27
  },
  {
   "metadata": {
    "ExecuteTime": {
     "end_time": "2024-09-15T21:44:31.944836Z",
     "start_time": "2024-09-15T21:44:31.935119Z"
    }
   },
   "cell_type": "code",
   "source": "[get_dicom_metadata(f'{df.iloc[2][\"filepath\"]}/{i}.dcm')['Content Time'] for i in range(1, 15)]",
   "id": "ff11310f82dd5ae2",
   "outputs": [
    {
     "data": {
      "text/plain": [
       "['223716.487580',\n",
       " '223717.050790',\n",
       " '223714.923139',\n",
       " '223717.619346',\n",
       " '223713.860122',\n",
       " '223717.257015',\n",
       " '223718.497043',\n",
       " '223714.012896',\n",
       " '223715.928825',\n",
       " '223718.635218',\n",
       " '223717.323970',\n",
       " '223718.287857',\n",
       " '223715.059080',\n",
       " '223714.535204']"
      ]
     },
     "execution_count": 28,
     "metadata": {},
     "output_type": "execute_result"
    }
   ],
   "execution_count": 28
  },
  {
   "metadata": {
    "ExecuteTime": {
     "end_time": "2024-09-15T21:59:55.444395Z",
     "start_time": "2024-09-15T21:59:51.594905Z"
    }
   },
   "cell_type": "code",
   "source": [
    "def is_matching(series1, series2):\n",
    "    try:\n",
    "        meta1 = get_dicom_metadata(f'{series1}/1.dcm')\n",
    "        meta2 = get_dicom_metadata(f'{series2}/1.dcm')\n",
    "    except: # some series dont have 1.dcm\n",
    "        return False\n",
    "    if abs(int(meta1['Content Time'].split('.')[0]) - int(meta2['Content Time'].split('.')[0])) <= 10:\n",
    "        return True\n",
    "    return False\n",
    "\n",
    "study_ids = [[], []]\n",
    "for study_id, sub_df in df.groupby('study_id'):\n",
    "    matched = np.all([is_matching(sub_df.iloc[i]['filepath'], sub_df.iloc[i + 1]['filepath']) for i in range(len(sub_df) - 1)])\n",
    "    study_ids[int(matched)].append(study_id)"
   ],
   "id": "9c9421c5eaa8fe9c",
   "outputs": [],
   "execution_count": 37
  },
  {
   "metadata": {
    "ExecuteTime": {
     "end_time": "2024-09-15T22:00:12.010275Z",
     "start_time": "2024-09-15T22:00:12.008043Z"
    }
   },
   "cell_type": "code",
   "source": "print(len(study_ids[0]), len(study_ids[1]))",
   "id": "386ff4384ae38efd",
   "outputs": [
    {
     "name": "stdout",
     "output_type": "stream",
     "text": [
      "199 1776\n"
     ]
    }
   ],
   "execution_count": 38
  }
 ],
 "metadata": {
  "kernelspec": {
   "display_name": "Python 3",
   "language": "python",
   "name": "python3"
  },
  "language_info": {
   "codemirror_mode": {
    "name": "ipython",
    "version": 2
   },
   "file_extension": ".py",
   "mimetype": "text/x-python",
   "name": "python",
   "nbconvert_exporter": "python",
   "pygments_lexer": "ipython2",
   "version": "2.7.6"
  }
 },
 "nbformat": 4,
 "nbformat_minor": 5
}
